{
  "nbformat": 4,
  "nbformat_minor": 0,
  "metadata": {
    "colab": {
      "provenance": []
    },
    "kernelspec": {
      "name": "python3",
      "display_name": "Python 3"
    },
    "language_info": {
      "name": "python"
    }
  },
  "cells": [
    {
      "cell_type": "markdown",
      "source": [
        "## **1. What are the five key concepts of Object-Oriented Programming (OOP)?**"
      ],
      "metadata": {
        "id": "7b5aKTXNaMcT"
      }
    },
    {
      "cell_type": "markdown",
      "source": [
        "**a. Classes and Objects:** A class serves as a blueprint for creating objects. It encapsulates data for the object and methods to manipulate that data. In Python, classes are defined using the class keyword. An object is an instance of a class. It represents a specific entity that contains attributes (data) and methods (functions) defined by its class. Objects are created by instantiating a class."
      ],
      "metadata": {
        "id": "oXfiA-VceLt2"
      }
    },
    {
      "cell_type": "code",
      "source": [
        "class Person:\n",
        "    def __init__(self, name, age):\n",
        "        self.name = name\n",
        "        self.age = age\n",
        "\n",
        "    def greet(self):\n",
        "        print(f\"Hello, my name is {self.name} and I am {self.age} years old.\")\n",
        "\n",
        "person = Person(\"Vishal\", 25)\n",
        "person.greet()"
      ],
      "metadata": {
        "colab": {
          "base_uri": "https://localhost:8080/"
        },
        "id": "9vuGTDmefOwg",
        "outputId": "3464c12c-fc4d-46b6-cffb-4f5c35e8cc36"
      },
      "execution_count": null,
      "outputs": [
        {
          "output_type": "stream",
          "name": "stdout",
          "text": [
            "Hello, my name is Vishal and I am 25 years old.\n"
          ]
        }
      ]
    },
    {
      "cell_type": "markdown",
      "source": [
        "**b. Inheritance:** Inheritance is the mechanism by which one class can inherit the properties and behavior of another class. The child class inherits all the attributes and methods of the parent class and can also add new attributes and methods or override the ones inherited from the parent class."
      ],
      "metadata": {
        "id": "wSF9iRf-fYtc"
      }
    },
    {
      "cell_type": "code",
      "source": [
        "class Animal:\n",
        "    def sound(self):\n",
        "        pass\n",
        "\n",
        "class Dog(Animal):\n",
        "    def sound(self):\n",
        "        return \"Woof!\"\n",
        "\n",
        "class Cat(Animal):\n",
        "    def sound(self):\n",
        "        return \"Meow!\"\n",
        "\n",
        "myDog = Dog()\n",
        "myCat = Cat()\n",
        "print(myDog.sound())\n",
        "print(myCat.sound())"
      ],
      "metadata": {
        "colab": {
          "base_uri": "https://localhost:8080/"
        },
        "id": "f_gQ2YnKftfo",
        "outputId": "1cf150f6-0166-4466-c7bf-5b0ab40544f9"
      },
      "execution_count": null,
      "outputs": [
        {
          "output_type": "stream",
          "name": "stdout",
          "text": [
            "Woof!\n",
            "Meow!\n"
          ]
        }
      ]
    },
    {
      "cell_type": "markdown",
      "source": [
        "**c. Polymorphism:** Polymorphism is the ability of an object to take on multiple forms. This can be achieved through method overriding or method overloading."
      ],
      "metadata": {
        "id": "DsJkH9JS0WSw"
      }
    },
    {
      "cell_type": "code",
      "source": [
        "class Animal:\n",
        "    def sound(self):\n",
        "        pass\n",
        "\n",
        "class Dog(Animal):\n",
        "    def sound(self):\n",
        "        return \"Woof!\"\n",
        "\n",
        "class Cat(Animal):\n",
        "    def sound(self):\n",
        "        return \"Meow!\"\n",
        "\n",
        "class Bird(Animal):\n",
        "    def sound(self):\n",
        "        return \"Chirp!\"\n",
        "\n",
        "\n",
        "animals = [Dog(), Cat(), Bird()]\n",
        "\n",
        "for animal in animals:\n",
        "    print(animal.sound())"
      ],
      "metadata": {
        "colab": {
          "base_uri": "https://localhost:8080/"
        },
        "id": "XBjAQXJS0Yp6",
        "outputId": "dc57d463-9b8f-4816-bf65-a828d3f35ebb"
      },
      "execution_count": null,
      "outputs": [
        {
          "output_type": "stream",
          "name": "stdout",
          "text": [
            "Woof!\n",
            "Meow!\n",
            "Chirp!\n"
          ]
        }
      ]
    },
    {
      "cell_type": "markdown",
      "source": [
        "**d. Encapsulation:** Encapsulation is the concept of bundling data and methods that operate on that data within a single unit, called a class or object. This helps to hide the internal implementation details of an object from the outside world and provides a layer of abstraction.\n"
      ],
      "metadata": {
        "id": "jaFV7Bp71iH-"
      }
    },
    {
      "cell_type": "code",
      "source": [
        "class BankAccount:\n",
        "    def __init__(self, balance=0):\n",
        "        self.__balance = balance\n",
        "\n",
        "    def deposit(self, amount):\n",
        "        self.__balance += amount\n",
        "\n",
        "    def getBalance(self):\n",
        "        return self.__balance\n",
        "\n",
        "myAccount = BankAccount(100)\n",
        "myAccount.deposit(50)\n",
        "print(myAccount.getBalance())"
      ],
      "metadata": {
        "colab": {
          "base_uri": "https://localhost:8080/"
        },
        "id": "T83OzJOC13IZ",
        "outputId": "ee39eabe-e9ba-4021-fdf6-2c2f997591c0"
      },
      "execution_count": null,
      "outputs": [
        {
          "output_type": "stream",
          "name": "stdout",
          "text": [
            "150\n"
          ]
        }
      ]
    },
    {
      "cell_type": "markdown",
      "source": [
        "**e. Abstraction:** Abstraction is the concept of showing only the essential features of an object to the outside world while hiding its internal implementation details. This helps to reduce complexity and improve modularity."
      ],
      "metadata": {
        "id": "Bk-3mM303ofK"
      }
    },
    {
      "cell_type": "code",
      "source": [
        "from abc import ABC, abstractmethod\n",
        "\n",
        "class Vehicle(ABC):\n",
        "    def move(self):\n",
        "        pass\n",
        "\n",
        "class Car(Vehicle):\n",
        "    def move(self):\n",
        "        print(\"Moving the car\")\n",
        "\n",
        "class Bike(Vehicle):\n",
        "    def move(self):\n",
        "        print(\"Moving the bike\")\n",
        "\n",
        "def drive(vehicle):\n",
        "    vehicle.move()\n",
        "\n",
        "\n",
        "car = Car()\n",
        "bike = Bike()\n",
        "\n",
        "\n",
        "drive(car)\n",
        "drive(bike)"
      ],
      "metadata": {
        "colab": {
          "base_uri": "https://localhost:8080/"
        },
        "id": "fGz8W0g028MM",
        "outputId": "33c0a531-144f-462b-f797-33c210a21a31"
      },
      "execution_count": null,
      "outputs": [
        {
          "output_type": "stream",
          "name": "stdout",
          "text": [
            "Moving the car\n",
            "Moving the bike\n"
          ]
        }
      ]
    },
    {
      "cell_type": "markdown",
      "source": [
        "## **2. Write a Python class for a `Car` with attributes for `make`, `model`, and `year`. Include a method to display the car's information.**"
      ],
      "metadata": {
        "id": "SfMHhqaF3x0p"
      }
    },
    {
      "cell_type": "code",
      "source": [
        "class Car:\n",
        "    def __init__(self, make, model, year):\n",
        "\n",
        "        self.make = make\n",
        "        self.model = model\n",
        "        self.year = year\n",
        "\n",
        "    def displayInfo(self):\n",
        "\n",
        "        print(f\"{self.make} {self.model} {self.year}\")\n",
        "\n",
        "\n",
        "myCar = Car(\"Kia\", \"Seltos\", 2019)\n",
        "myCar.displayInfo()"
      ],
      "metadata": {
        "colab": {
          "base_uri": "https://localhost:8080/"
        },
        "id": "WjoyYneP4wnS",
        "outputId": "53e1ea4c-e8d0-4245-8ae5-8e335bdf7c78"
      },
      "execution_count": null,
      "outputs": [
        {
          "output_type": "stream",
          "name": "stdout",
          "text": [
            "Kia Seltos 2019\n"
          ]
        }
      ]
    },
    {
      "cell_type": "markdown",
      "source": [
        "## **3. Explain the difference between instance methods and class methods. Provide an example of each.**"
      ],
      "metadata": {
        "id": "palpygxN8TYQ"
      }
    },
    {
      "cell_type": "markdown",
      "source": [
        "Instance methods and class methods are two types of methods in Python, each serving different purposes and having distinct characteristics.\n",
        "\n",
        "i. **Instance Methods**\n",
        "\n",
        "Instance methods are the most common type of method in a class. They operate on an instance of the class and can access and modify the instance's attributes. The first parameter of an instance method is always `self`, which refers to the specific instance of the class.\n"
      ],
      "metadata": {
        "id": "OuLpeLqd-QJy"
      }
    },
    {
      "cell_type": "code",
      "source": [
        "class Car:\n",
        "    def __init__(self, make, model, year):\n",
        "        self.make = make\n",
        "        self.model = model\n",
        "        self.year = year\n",
        "\n",
        "    def displayInfo(self):\n",
        "        print(f\"{self.year} {self.make} {self.model}\")\n",
        "\n",
        "\n",
        "myCar = Car(\"Kia\", \"Seltos\", 2019)\n",
        "myCar.displayInfo()"
      ],
      "metadata": {
        "colab": {
          "base_uri": "https://localhost:8080/"
        },
        "id": "AZ5KeszU8sS1",
        "outputId": "58f36cda-4af5-41d8-db07-4c722bb7815f"
      },
      "execution_count": null,
      "outputs": [
        {
          "output_type": "stream",
          "name": "stdout",
          "text": [
            "2019 Kia Seltos\n"
          ]
        }
      ]
    },
    {
      "cell_type": "markdown",
      "source": [
        "In this example, `displayInfo` is an instance method that prints the information about a specific car object. It uses `self` to access the attributes of that particular instance.\n",
        "\n",
        "ii. **Class Methods**\n",
        "\n",
        "Class methods are bound to the class rather than its instances. They can be called on the class itself or on instances of the class. The first parameter of a class method is `cls`, which refers to the class itself. Class methods are defined using the `@classmethod` decorator."
      ],
      "metadata": {
        "id": "8dxiGPAl-_TO"
      }
    },
    {
      "cell_type": "code",
      "source": [
        "class Car:\n",
        "    numberOfWheels = 4\n",
        "\n",
        "    @classmethod\n",
        "    def displayWheels(cls):\n",
        "        print(f\"A car has {cls.numberOfWheels} wheels.\")\n",
        "\n",
        "\n",
        "Car.displayWheels()"
      ],
      "metadata": {
        "colab": {
          "base_uri": "https://localhost:8080/"
        },
        "id": "y3rpIOdl_2ve",
        "outputId": "a22a771e-fa6d-43e5-922b-0a1e9d92307d"
      },
      "execution_count": null,
      "outputs": [
        {
          "output_type": "stream",
          "name": "stdout",
          "text": [
            "A car has 4 wheels.\n"
          ]
        }
      ]
    },
    {
      "cell_type": "markdown",
      "source": [
        "In this example, `displayWheels` is a class method that prints the number of wheels for all car instances. It uses `cls` to access class-level attributes.\n",
        "\n",
        "**Key differences:**\n",
        "\n",
        "**Calling:** Instance methods are called on an instance of the class, while class methods are called on the class itself.\n",
        "\n",
        "**Access:** Instance methods have access to the instance's attributes, while class methods have access to the class's attributes.\n",
        "\n",
        "**Purpose:** Instance methods are used to perform actions specific to an instance, while class methods are used to perform actions related to the class as a whole."
      ],
      "metadata": {
        "id": "cInwgfD2Dk6h"
      }
    },
    {
      "cell_type": "markdown",
      "source": [
        "## **4. How does Python implement method overloading? Give an example.**"
      ],
      "metadata": {
        "id": "czXXik7uELwE"
      }
    },
    {
      "cell_type": "markdown",
      "source": [
        "Python does not directly support method overloading like some other programming languages. However, we can achieve similar functionality using default arguments and variable-length arguments.\n",
        "\n",
        "**a. Using Default Arguments**\n",
        "\n",
        "We can define a single method that accepts optional parameters with default values. This allows the method to be called with different numbers of arguments."
      ],
      "metadata": {
        "id": "znktbXLSF9fH"
      }
    },
    {
      "cell_type": "code",
      "source": [
        "class Calculator:\n",
        "    def add(self, a, b, c=0):\n",
        "        return a + b + c\n",
        "\n",
        "calc = Calculator()\n",
        "print(calc.add(10, 20))\n",
        "print(calc.add(10, 20, 30))"
      ],
      "metadata": {
        "colab": {
          "base_uri": "https://localhost:8080/"
        },
        "id": "QMSpdcVkGLt-",
        "outputId": "84152402-b038-4353-d21a-51ab7258508c"
      },
      "execution_count": null,
      "outputs": [
        {
          "output_type": "stream",
          "name": "stdout",
          "text": [
            "30\n",
            "60\n"
          ]
        }
      ]
    },
    {
      "cell_type": "markdown",
      "source": [
        "In this example, the `add` method can be called with either two or three arguments because `c` has a default value of `0`."
      ],
      "metadata": {
        "id": "5yhT5loQGWEk"
      }
    },
    {
      "cell_type": "markdown",
      "source": [
        "b. **Using Variable-Length Arguments**\n",
        "\n",
        "We can use `*args` to create methods that accept a variable number of arguments."
      ],
      "metadata": {
        "id": "-c9XCWX_Gbtm"
      }
    },
    {
      "cell_type": "code",
      "source": [
        "class Calculator:\n",
        "    def add(self, *args):\n",
        "        return sum(args)\n",
        "\n",
        "calc = Calculator()\n",
        "print(calc.add(10, 20))\n",
        "print(calc.add(10, 20, 30, 40))"
      ],
      "metadata": {
        "colab": {
          "base_uri": "https://localhost:8080/"
        },
        "id": "9xluvJLrGonD",
        "outputId": "143118b8-04cf-482d-8ef2-bcbff39233a4"
      },
      "execution_count": null,
      "outputs": [
        {
          "output_type": "stream",
          "name": "stdout",
          "text": [
            "30\n",
            "100\n"
          ]
        }
      ]
    },
    {
      "cell_type": "markdown",
      "source": [
        "The `add` method can now be called with any number of arguments.\n",
        "\n",
        "**c. Using `multipledispatch` Library**\n",
        "\n",
        "It is a more advanced method overloading based on argument types."
      ],
      "metadata": {
        "id": "DbWXERWMGyv9"
      }
    },
    {
      "cell_type": "code",
      "source": [
        "from multipledispatch import dispatch\n",
        "\n",
        "class Calculator:\n",
        "    @dispatch(int, int)\n",
        "    def add(self, a, b):\n",
        "        return a + b\n",
        "\n",
        "    @dispatch(int, int, int)\n",
        "    def add(self, a, b, c):\n",
        "        return a + b + c\n",
        "\n",
        "calc = Calculator()\n",
        "print(calc.add(10, 20))\n",
        "print(calc.add(10, 20, 30))"
      ],
      "metadata": {
        "colab": {
          "base_uri": "https://localhost:8080/"
        },
        "id": "vs8Aw7A1G_3b",
        "outputId": "3d4d8085-0383-433e-c042-8888a4c165f4"
      },
      "execution_count": null,
      "outputs": [
        {
          "output_type": "stream",
          "name": "stdout",
          "text": [
            "30\n",
            "60\n"
          ]
        }
      ]
    },
    {
      "cell_type": "markdown",
      "source": [
        "This library allows us to define multiple methods with the same name but different parameter types.\n",
        "\n",
        "While Python doesn't support method overloading directly, these techniques provide a way to achieve similar functionality and flexibility."
      ],
      "metadata": {
        "id": "X2quyWAFHJh5"
      }
    },
    {
      "cell_type": "markdown",
      "source": [
        "## **5. What are the three types of access modifiers in Python? How are they denoted?**"
      ],
      "metadata": {
        "id": "NvW4SXLEILk1"
      }
    },
    {
      "cell_type": "markdown",
      "source": [
        "In Python, there are three types of access modifiers that control the visibility and accessibility of class members (attributes and methods). These access modifiers are denoted using specific naming conventions rather than keywords, as seen in other programming languages.\n",
        "\n",
        "1. **Public Access Modifier**\n",
        "\n",
        "* **Denotation** Public members are defined without any prefix.\n",
        "* **Accessibility:** Public members can be accessed from anywhere in the program, both inside and outside the class.\n",
        "\n",
        "Example:"
      ],
      "metadata": {
        "id": "phUN7U-dITXH"
      }
    },
    {
      "cell_type": "code",
      "source": [
        "class Employee:\n",
        "    def __init__(self, name):\n",
        "        self.name = name\n",
        "\n",
        "emp = Employee(\"Vishal\")\n",
        "print(emp.name)"
      ],
      "metadata": {
        "colab": {
          "base_uri": "https://localhost:8080/"
        },
        "id": "8h_KS8FFJWsA",
        "outputId": "0b1afcc8-729f-4b25-b027-f13e4abce666"
      },
      "execution_count": null,
      "outputs": [
        {
          "output_type": "stream",
          "name": "stdout",
          "text": [
            "Vishal\n"
          ]
        }
      ]
    },
    {
      "cell_type": "markdown",
      "source": [
        "2. **Protected Access Modifier**\n",
        "\n",
        "* **Denotation:** Protected members are defined with a single underscore prefix (`_`).\n",
        "* **Accessibility:** Protected members can be accessed within the class and by subclasses (derived classes), but not from outside the class hierarchy.\n",
        "\n",
        "Example:"
      ],
      "metadata": {
        "id": "FCauJLCYJ-Mc"
      }
    },
    {
      "cell_type": "code",
      "source": [
        "class Employee:\n",
        "    def __init__(self, name):\n",
        "        self._name = name\n",
        "\n",
        "class Manager(Employee):\n",
        "    def display(self):\n",
        "        print(self._name)\n",
        "\n",
        "\n",
        "mgr = Manager(\"Vishal\")\n",
        "mgr.display()"
      ],
      "metadata": {
        "colab": {
          "base_uri": "https://localhost:8080/"
        },
        "id": "oPOws3KtKNzj",
        "outputId": "3601d5f1-3a18-4cc1-f589-149c814a0310"
      },
      "execution_count": null,
      "outputs": [
        {
          "output_type": "stream",
          "name": "stdout",
          "text": [
            "Vishal\n"
          ]
        }
      ]
    },
    {
      "cell_type": "markdown",
      "source": [
        "3. **Private Access Modifier**\n",
        "* **Denotation:** Private members are defined with a double underscore prefix (`__`).\n",
        "* **Accessibility:** Private members can only be accessed within the class where they are defined. They cannot be accessed from outside the class or by subclasses.\n",
        "\n",
        "Example:"
      ],
      "metadata": {
        "id": "r2nYVAlNKneG"
      }
    },
    {
      "cell_type": "code",
      "source": [
        "class Employee:\n",
        "    def __init__(self, name):\n",
        "        self.__name = name\n",
        "\n",
        "    def getName(self):\n",
        "        return self.__name\n",
        "\n",
        "emp = Employee(\"Vishal\")\n",
        "print(emp.getName())\n"
      ],
      "metadata": {
        "colab": {
          "base_uri": "https://localhost:8080/"
        },
        "id": "RpQY7jgYK6Eh",
        "outputId": "88329dbb-03c5-4a54-98d6-33ba8412d01e"
      },
      "execution_count": null,
      "outputs": [
        {
          "output_type": "stream",
          "name": "stdout",
          "text": [
            "Vishal\n"
          ]
        }
      ]
    },
    {
      "cell_type": "markdown",
      "source": [
        "Summary:\n",
        "\n",
        "* **Public:** No prefix; accessible from anywhere.\n",
        "* **Protected:** Single underscore prefix (`_`); accessible within the class and subclasses.\n",
        "* **Private:** Double underscore prefix (`__`); accessible only within the defining class.\n",
        "\n",
        "These conventions help maintain encapsulation and data hiding in Python, allowing for better control over how class members are accessed and modified."
      ],
      "metadata": {
        "id": "D6IlIed7LUNt"
      }
    },
    {
      "cell_type": "markdown",
      "source": [
        "## **6. Describe the five types of inheritance in Python. Provide a simple example of multiple inheritance.**"
      ],
      "metadata": {
        "id": "Ni_QrvJgLx-q"
      }
    },
    {
      "cell_type": "markdown",
      "source": [
        "1. **Single Inheritance:** In single inheritance, a child class inherits from a single parent class. The child class inherits all the attributes and methods of the parent class.\n",
        "\n",
        "2. **Multiple Inheritance:** In multiple inheritance, a child class can inherit from more than one parent class. This allows the child class to inherit attributes and methods from multiple classes.\n",
        "\n",
        "3. **Multilevel Inheritance:** In multilevel inheritance, a child class inherits from a parent class, which in turn inherits from another parent class. This creates a hierarchy of inheritance.\n",
        "\n",
        "4. **Hierarchical Inheritance:** More than one derived class is created from a single base class.\n",
        "\n",
        "5. **Hybrid Inheritance:** In this type of inheritance, a child class inherits from multiple parent classes, and one of those parent classes itself inherits from another parent class.\n",
        "**Example of Multiple Inheritance**"
      ],
      "metadata": {
        "id": "v_Ufw5DEMDbR"
      }
    },
    {
      "cell_type": "code",
      "source": [
        "class Animal:\n",
        "    def sound(self):\n",
        "        print(\"The animal makes a sound\")\n",
        "\n",
        "class Mammal:\n",
        "    def produceMilk(self):\n",
        "        print(\"The mammal produces milk\")\n",
        "\n",
        "class Dog(Animal, Mammal):\n",
        "    pass\n",
        "\n",
        "myDog = Dog()\n",
        "myDog.sound()\n",
        "myDog.produceMilk()"
      ],
      "metadata": {
        "colab": {
          "base_uri": "https://localhost:8080/"
        },
        "id": "P6rMPfIhaKTk",
        "outputId": "88ade814-98d9-4091-91e8-caf12524ce3a"
      },
      "execution_count": null,
      "outputs": [
        {
          "output_type": "stream",
          "name": "stdout",
          "text": [
            "The animal makes a sound\n",
            "The mammal produces milk\n"
          ]
        }
      ]
    },
    {
      "cell_type": "markdown",
      "source": [
        "## **7. What is the Method Resolution Order (MRO) in Python? How can you retrieve it programmatically?**"
      ],
      "metadata": {
        "id": "4FpOmpcqb2w-"
      }
    },
    {
      "cell_type": "markdown",
      "source": [
        "Method Resolution Order (MRO) in Python is the sequence in which Python looks for a method in a hierarchy of classes, particularly important in the context of multiple inheritance. When a method is called on an object, Python first searches for the method in the class of the object itself. If it is not found there, the search continues up the class hierarchy, checking each parent class from left to right based on the order they were declared.\n",
        "\n",
        "**Key Points about MRO**\n",
        "\n",
        "* **Depth-First Left-to-Right Search:** MRO follows a depth-first search strategy, meaning it will check the current class first and then move to its parents in the order specified.\n",
        "* **C3 Linearization:** Python uses an algorithm known as C3 Linearization to determine MRO. This algorithm ensures that the order of method resolution is consistent and respects the order of base classes.\n",
        "* **Multiple Inheritance:** MRO becomes essential when dealing with multiple inheritance scenarios, where a class can inherit from more than one parent class.\n",
        "\n",
        "**Retrieving MRO Programmatically:**\n",
        "\n",
        "We can retrieve the MRO of a class using either the `__mro__` attribute or the `mro()` method."
      ],
      "metadata": {
        "id": "eYVMwpA2b6SA"
      }
    },
    {
      "cell_type": "code",
      "source": [
        "class A:\n",
        "    pass\n",
        "\n",
        "class B(A):\n",
        "    pass\n",
        "\n",
        "class C(A):\n",
        "    pass\n",
        "\n",
        "class D(B, C):\n",
        "    pass\n",
        "\n",
        "# Retrieve MRO\n",
        "print(D.__mro__)\n",
        "\n",
        "# Alternate\n",
        "print(D.mro())"
      ],
      "metadata": {
        "colab": {
          "base_uri": "https://localhost:8080/"
        },
        "id": "nJbqJvKidFsr",
        "outputId": "d1b630b7-d622-451f-cfc2-2c46d1213611"
      },
      "execution_count": null,
      "outputs": [
        {
          "output_type": "stream",
          "name": "stdout",
          "text": [
            "(<class '__main__.D'>, <class '__main__.B'>, <class '__main__.C'>, <class '__main__.A'>, <class 'object'>)\n",
            "[<class '__main__.D'>, <class '__main__.B'>, <class '__main__.C'>, <class '__main__.A'>, <class 'object'>]\n"
          ]
        }
      ]
    },
    {
      "cell_type": "markdown",
      "source": [
        "## **8. Create an abstract base class `Shape` with an abstract method `area()`. Then create two subclasses `Circle` and `Rectangle` that implement the `area()` method.**"
      ],
      "metadata": {
        "id": "pUlKXzF2dXn2"
      }
    },
    {
      "cell_type": "code",
      "source": [
        "from abc import ABC, abstractmethod\n",
        "\n",
        "# Abstract Base Class\n",
        "class Shape(ABC):\n",
        "    @abstractmethod\n",
        "    def area(self):\n",
        "        pass\n",
        "\n",
        "# Subclass for Circle\n",
        "class Circle(Shape):\n",
        "    def __init__(self, radius):\n",
        "        self.radius = radius\n",
        "\n",
        "    def area(self):\n",
        "        return 3.14 * self.radius ** 2\n",
        "\n",
        "# Subclass for Rectangle\n",
        "class Rectangle(Shape):\n",
        "    def __init__(self, width, height):\n",
        "        self.width = width\n",
        "        self.height = height\n",
        "\n",
        "    def area(self):\n",
        "        return self.width * self.height\n",
        "\n",
        "\n",
        "circle = Circle(5)\n",
        "rectangle = Rectangle(4, 6)\n",
        "\n",
        "\n",
        "print(circle.area())\n",
        "print(rectangle.area())"
      ],
      "metadata": {
        "colab": {
          "base_uri": "https://localhost:8080/"
        },
        "id": "K-MH99Ftd-ql",
        "outputId": "6a37e44b-1b07-4f1b-fd08-50b293f231d0"
      },
      "execution_count": null,
      "outputs": [
        {
          "output_type": "stream",
          "name": "stdout",
          "text": [
            "78.5\n",
            "24\n"
          ]
        }
      ]
    },
    {
      "cell_type": "markdown",
      "source": [
        "## **9. Demonstrate polymorphism by creating a function that can work with different shape objects to calculate and print their areas.**"
      ],
      "metadata": {
        "id": "MIM9WYkQez5j"
      }
    },
    {
      "cell_type": "code",
      "source": [
        "from abc import ABC, abstractmethod\n",
        "\n",
        "# Abstract Base Class\n",
        "class Shape(ABC):\n",
        "    @abstractmethod\n",
        "    def area(self):\n",
        "       pass\n",
        "\n",
        "# Subclass for Circle\n",
        "class Circle(Shape):\n",
        "    def __init__(self, radius):\n",
        "        self.radius = radius\n",
        "\n",
        "    def area(self):\n",
        "        return 3.14 * (self.radius ** 2)\n",
        "\n",
        "# Subclass for Rectangle\n",
        "class Rectangle(Shape):\n",
        "    def __init__(self, width, height):\n",
        "        self.width = width\n",
        "        self.height = height\n",
        "\n",
        "    def area(self):\n",
        "        return self.width * self.height\n",
        "\n",
        "# Subclass for Triangle\n",
        "class Triangle(Shape):\n",
        "    def __init__(self, base, height):\n",
        "        self.base = base\n",
        "        self.height = height\n",
        "\n",
        "    def area(self):\n",
        "        return 0.5 * self.base * self.height\n",
        "\n",
        "\n",
        "\n",
        "def printShapeArea(shape: Shape):\n",
        "    print(f\"The area of the shape is: {shape.area()}\")\n",
        "\n",
        "\n",
        "circle = Circle(5)\n",
        "rectangle = Rectangle(4, 6)\n",
        "triangle = Triangle(3, 4)\n",
        "\n",
        "\n",
        "printShapeArea(circle)\n",
        "printShapeArea(rectangle)\n",
        "printShapeArea(triangle)"
      ],
      "metadata": {
        "colab": {
          "base_uri": "https://localhost:8080/"
        },
        "id": "YZayI9P5giKS",
        "outputId": "901af0e7-67b3-4322-d5b5-358ca951a3a9"
      },
      "execution_count": null,
      "outputs": [
        {
          "output_type": "stream",
          "name": "stdout",
          "text": [
            "The area of the shape is: 78.5\n",
            "The area of the shape is: 24\n",
            "The area of the shape is: 6.0\n"
          ]
        }
      ]
    },
    {
      "cell_type": "markdown",
      "source": [
        "## **10. Implement encapsulation in a `BankAccount` class with private attributes for `balance` and `account_number`. Include methods for deposit, withdrawal, and balance inquiry.**"
      ],
      "metadata": {
        "id": "s0hb0gNGtam7"
      }
    },
    {
      "cell_type": "code",
      "source": [
        "class BankAccount:\n",
        "    def __init__(self, accountNumber, initialBalance):\n",
        "        self.__accountNumber = accountNumber\n",
        "        self.__balance = initialBalance\n",
        "\n",
        "    def deposit(self, amount):\n",
        "        if amount > 0:\n",
        "            self.__balance += amount\n",
        "            print(f\"Deposited {amount} into account {self.__accountNumber}.\")\n",
        "        else:\n",
        "            print(\"Invalid deposit amount.\")\n",
        "\n",
        "    def withdraw(self, amount):\n",
        "        if amount > 0 and amount <= self.__balance:\n",
        "            self.__balance -= amount\n",
        "            print(f\"Withdrew {amount} from account {self.__accountNumber}.\")\n",
        "        elif amount > self.__balance:\n",
        "            print(\"Insufficient balance.\")\n",
        "        else:\n",
        "            print(\"Invalid withdrawal amount.\")\n",
        "\n",
        "    def check_balance(self):\n",
        "        print(f\"Account {self.__accountNumber} balance: {self.__balance}\")\n",
        "\n",
        "    def get_accountNumber(self):\n",
        "        return self.__accountNumber\n",
        "\n",
        "\n",
        "account = BankAccount(\"12345\", 1000)\n",
        "\n",
        "account.check_balance()\n",
        "account.deposit(500)\n",
        "account.check_balance()\n",
        "\n",
        "account.withdraw(2000)\n",
        "account.withdraw(500)\n",
        "account.check_balance()\n",
        "print(account.get_accountNumber())"
      ],
      "metadata": {
        "colab": {
          "base_uri": "https://localhost:8080/"
        },
        "id": "JpHkg4T2wa8T",
        "outputId": "564c9e50-d9ae-4c4e-c413-6727eb80f8e7"
      },
      "execution_count": null,
      "outputs": [
        {
          "output_type": "stream",
          "name": "stdout",
          "text": [
            "Account 12345 balance: 1000\n",
            "Deposited 500 into account 12345.\n",
            "Account 12345 balance: 1500\n",
            "Insufficient balance.\n",
            "Withdrew 500 from account 12345.\n",
            "Account 12345 balance: 1000\n",
            "12345\n"
          ]
        }
      ]
    },
    {
      "cell_type": "markdown",
      "source": [
        "## **11. Write a class that overrides the `__str__` and `__add__` magic methods. What will these methods allow you to do?**"
      ],
      "metadata": {
        "id": "bMoAbx13wKSt"
      }
    },
    {
      "cell_type": "code",
      "source": [
        "class Vector:\n",
        "    def __init__(self, x, y):\n",
        "        self.x = x\n",
        "        self.y = y\n",
        "\n",
        "    def __str__(self):\n",
        "        return f\"Vector({self.x}, {self.y})\"\n",
        "\n",
        "    def __add__(self, other):\n",
        "        if isinstance(other, Vector):\n",
        "            return Vector(self.x + other.x, self.y + other.y)\n",
        "        return NotImplemented\n",
        "\n",
        "if __name__ == \"__main__\":\n",
        "    v1 = Vector(2, 3)\n",
        "    v2 = Vector(4, 5)\n",
        "\n",
        "    print(v1)\n",
        "    print(v2)\n",
        "\n",
        "    v3 = v1 + v2\n",
        "    print(v3)"
      ],
      "metadata": {
        "id": "mFyBrgNJxZ0n",
        "colab": {
          "base_uri": "https://localhost:8080/"
        },
        "outputId": "8b6306b0-d09e-45c5-b1de-40f5362e73ca"
      },
      "execution_count": 16,
      "outputs": [
        {
          "output_type": "stream",
          "name": "stdout",
          "text": [
            "Vector(2, 3)\n",
            "Vector(4, 5)\n",
            "Vector(6, 8)\n"
          ]
        }
      ]
    },
    {
      "cell_type": "markdown",
      "source": [
        "Explanation of the Methods\n",
        "\n",
        "1. **`__str__` Method:**\n",
        "\n",
        "* The `__str__` method is overridden to provide a readable string representation of the `Vector` object. When we call `print(v1)` or `str(v1)`, it will output \"Vector(2, 3)\", making it clear what the object represents.\n",
        "* This method is called by the built-in `print()` function and when using `str()` on an instance of the class.\n",
        "\n",
        "2. **`__add__` Method:**\n",
        "\n",
        "* The `__add__` method allows instances of the `Vector` class to be added together using the `+` operator.\n",
        "* It checks if the other operand is also an instance of `Vector`. If so, it creates and returns a new `Vector` object with coordinates that are the sum of the corresponding coordinates of the two vectors.\n",
        "If the other operand is not a `Vector`, it returns `NotImplemented`, which is a standard way to indicate that the operation is not supported.\n",
        "\n",
        "**Benefits of These Methods**\n",
        "\n",
        "* **User-Friendly Representation:** By overriding the `__str__` method, we provide a clear and understandable output for users when they print or convert the object to a string.\n",
        "* **Operator Overloading:** The `__add__` method allows for intuitive syntax when working with the objects. Instead of calling a method to add two vectors, we can simply use the `+` operator, making the code cleaner and more readable."
      ],
      "metadata": {
        "id": "2AdPY9Fg7xum"
      }
    },
    {
      "cell_type": "markdown",
      "source": [
        "## **12. Create a decorator that measures and prints the execution time of a function.**"
      ],
      "metadata": {
        "id": "G8UITmfbxaSG"
      }
    },
    {
      "cell_type": "code",
      "source": [
        "import time\n",
        "from functools import wraps\n",
        "\n",
        "def measureExecutionTime(func):\n",
        "    @wraps(func)\n",
        "    def wrapper(*args, **kwargs):\n",
        "        start_time = time.perf_counter()\n",
        "        result = func(*args, **kwargs)\n",
        "        end_time = time.perf_counter()\n",
        "        execution_time = end_time - start_time\n",
        "        print(f\"Function '{func.__name__}' took {execution_time:.4f} seconds to execute\")\n",
        "        return result\n",
        "    return wrapper\n",
        "\n",
        "\n",
        "@measureExecutionTime\n",
        "def calculateSum(n):\n",
        "    total = sum(range(n + 1))\n",
        "    return total\n",
        "\n",
        "if __name__ == \"__main__\":\n",
        "    result = calculateSum(1000000)\n",
        "    print(\"Result:\", result)"
      ],
      "metadata": {
        "colab": {
          "base_uri": "https://localhost:8080/"
        },
        "id": "iQ_vCyeR6uqu",
        "outputId": "ccab8341-b48f-4eec-aed8-b28f9cdf7a4c"
      },
      "execution_count": 15,
      "outputs": [
        {
          "output_type": "stream",
          "name": "stdout",
          "text": [
            "Function 'calculateSum' took 0.0222 seconds to execute\n",
            "Result: 500000500000\n"
          ]
        }
      ]
    },
    {
      "cell_type": "markdown",
      "source": [
        "## **13. Explain the concept of the Diamond Problem in multiple inheritance. How does Python resolve it?**"
      ],
      "metadata": {
        "id": "bAqfGr12xepM"
      }
    },
    {
      "cell_type": "markdown",
      "source": [
        "The Diamond Problem in multiple inheritance arises when a class inherits from two or more classes that have a common superclass. This creates ambiguity regarding which version of a method should be inherited when the subclass does not override it.\n",
        "\n",
        "**Explanation of the Diamond Problem**\n",
        "\n",
        "Consider the following class structure:\n",
        "\n",
        "Class `A` is a superclass.\n",
        "\n",
        "Classes `B` and `C` both inherit from A.\n",
        "\n",
        "Class `D` inherits from both `B` and `C`.\n",
        "\n",
        "This creates a diamond-shaped inheritance structure:\n",
        "\n",
        "```\n",
        "    A\n",
        "   / \\\n",
        "  B   C\n",
        "   \\ /\n",
        "    D\n",
        "```\n",
        "\n",
        "When an instance of `D` calls a method that is defined in `A`, which version should be executed? If both `B` and `C` override this method, it becomes unclear whether the method from `B` or `C` should be called.\n",
        "\n",
        "**Solution:**\n",
        "\n",
        "Python resolves the Diamond Problem using a mechanism called Method Resolution Order (MRO). The MRO determines the order in which classes are searched when executing a method. Python employs an algorithm known as C3 Linearization to establish this order, ensuring that:\n",
        "\n",
        "1. A class always precedes its parents.\n",
        "2. If a parent class is inherited from multiple classes, the order respects the declaration order in the class definition."
      ],
      "metadata": {
        "id": "9v3kIF5G2QLA"
      }
    },
    {
      "cell_type": "code",
      "source": [
        "class A:\n",
        "    def display(self):\n",
        "        print(\"Display method from class A\")\n",
        "\n",
        "class B(A):\n",
        "    def display(self):\n",
        "        print(\"Display method from class B\")\n",
        "\n",
        "class C(A):\n",
        "    def display(self):\n",
        "        print(\"Display method from class C\")\n",
        "\n",
        "class D(B, C):\n",
        "    pass\n",
        "\n",
        "\n",
        "d = D()\n",
        "d.display()\n",
        "\n",
        "print(D.mro())"
      ],
      "metadata": {
        "id": "jb1ZEfA24kUt",
        "colab": {
          "base_uri": "https://localhost:8080/"
        },
        "outputId": "72395273-70e5-49e7-88d3-38ab18b410a6"
      },
      "execution_count": 14,
      "outputs": [
        {
          "output_type": "stream",
          "name": "stdout",
          "text": [
            "Display method from class B\n",
            "[<class '__main__.D'>, <class '__main__.B'>, <class '__main__.C'>, <class '__main__.A'>, <class 'object'>]\n"
          ]
        }
      ]
    },
    {
      "cell_type": "markdown",
      "source": [
        "## **14. Write a class method that keeps track of the number of instances created from a class.**"
      ],
      "metadata": {
        "id": "beJ1QGIIxm0L"
      }
    },
    {
      "cell_type": "code",
      "source": [
        "class MyClass:\n",
        "    _instanceCount = 0\n",
        "\n",
        "    def __init__(self):\n",
        "        MyClass._instanceCount += 1\n",
        "\n",
        "    @classmethod\n",
        "    def get_instanceCount(cls):\n",
        "        return cls._instanceCount\n",
        "\n",
        "\n",
        "instance1 = MyClass()\n",
        "instance2 = MyClass()\n",
        "instance3 = MyClass()\n",
        "\n",
        "print(MyClass.get_instanceCount())"
      ],
      "metadata": {
        "colab": {
          "base_uri": "https://localhost:8080/"
        },
        "id": "LpXqu_Gx05nw",
        "outputId": "13a71133-6011-4460-e977-77a200f0bc9a"
      },
      "execution_count": null,
      "outputs": [
        {
          "output_type": "stream",
          "name": "stdout",
          "text": [
            "3\n"
          ]
        }
      ]
    },
    {
      "cell_type": "markdown",
      "source": [
        "## **15. Implement a static method in a class that checks if a given year is a leap year.**"
      ],
      "metadata": {
        "id": "3wIKjmSLxu5N"
      }
    },
    {
      "cell_type": "code",
      "source": [
        "class YearChecker:\n",
        "    @staticmethod\n",
        "    def isLeapYear(year):\n",
        "        if (year % 4 == 0 and year % 100 != 0) or (year % 400 == 0):\n",
        "            return True\n",
        "        else:\n",
        "            return False\n",
        "\n",
        "\n",
        "if __name__ == \"__main__\":\n",
        "    yearToCheck = [2000, 2001, 2004, 2016, 2020, 2023]\n",
        "\n",
        "    for year in yearToCheck:\n",
        "        if YearChecker.isLeapYear(year):\n",
        "            print(f\"{year} is a leap year.\")\n",
        "        else:\n",
        "            print(f\"{year} is not a leap year.\")"
      ],
      "metadata": {
        "colab": {
          "base_uri": "https://localhost:8080/"
        },
        "id": "EprOKyw6z_sa",
        "outputId": "c88134eb-7752-4749-b2e7-e10ae0b57ca5"
      },
      "execution_count": null,
      "outputs": [
        {
          "output_type": "stream",
          "name": "stdout",
          "text": [
            "2000 is a leap year.\n",
            "2001 is not a leap year.\n",
            "2004 is a leap year.\n",
            "2016 is a leap year.\n",
            "2020 is a leap year.\n",
            "2023 is not a leap year.\n"
          ]
        }
      ]
    }
  ]
}